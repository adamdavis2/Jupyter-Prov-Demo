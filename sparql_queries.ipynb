{
 "cells": [
  {
   "cell_type": "code",
   "execution_count": 3,
   "id": "8dd537e5",
   "metadata": {},
   "outputs": [
    {
     "data": {
      "text/html": [
       "<div class=\"krn-spql\"><div class=\"magic\">Endpoint set to: http://prov-loadba-z1mq3hc1iwb6-0953be8432f34fc1.elb.ap-southeast-2.amazonaws.com:3030/prov/sparql</div><div class=\"magic\">Display: table<br/>Show Types: on</div></div>"
      ],
      "text/plain": [
       "Endpoint set to: http://prov-loadba-z1mq3hc1iwb6-0953be8432f34fc1.elb.ap-southeast-2.amazonaws.com:3030/prov/sparql\n",
       "Display: table\n",
       "Show Types: on\n"
      ]
     },
     "metadata": {},
     "output_type": "display_data"
    }
   ],
   "source": [
    "%endpoint http://prov-loadba-z1mq3hc1iwb6-0953be8432f34fc1.elb.ap-southeast-2.amazonaws.com:3030/prov/sparql\n",
    "%display table withtypes"
   ]
  },
  {
   "cell_type": "code",
   "execution_count": 4,
   "id": "34f40413",
   "metadata": {},
   "outputs": [
    {
     "data": {
      "text/html": [
       "<div class=\"krn-spql\"><table><tr class=hdr><th>property</th><th>type</th></tr><tr class=odd><td class=val><a href=\"https://data.surroundaustralia.com/def/provworkflow/hadBlock\" target=\"_other\">https://data.surroundaustralia.com/def/provworkflow/hadBlock</a></td><td class=typ>uri</td></tr><tr class=even><td class=val><a href=\"http://www.w3.org/ns/prov#wasAssociatedWith\" target=\"_other\">http://www.w3.org/ns/prov#wasAssociatedWith</a></td><td class=typ>uri</td></tr><tr class=odd><td class=val><a href=\"http://www.w3.org/ns/prov#used\" target=\"_other\">http://www.w3.org/ns/prov#used</a></td><td class=typ>uri</td></tr><tr class=even><td class=val><a href=\"http://www.w3.org/1999/02/22-rdf-syntax-ns#type\" target=\"_other\">http://www.w3.org/1999/02/22-rdf-syntax-ns#type</a></td><td class=typ>uri</td></tr><tr class=odd><td class=val><a href=\"http://www.w3.org/2002/07/owl#versionIRI\" target=\"_other\">http://www.w3.org/2002/07/owl#versionIRI</a></td><td class=typ>uri</td></tr><tr class=even><td class=val><a href=\"http://purl.org/dc/terms/created\" target=\"_other\">http://purl.org/dc/terms/created</a></td><td class=typ>uri</td></tr><tr class=odd><td class=val><a href=\"http://www.w3.org/2000/01/rdf-schema#label\" target=\"_other\">http://www.w3.org/2000/01/rdf-schema#label</a></td><td class=typ>uri</td></tr><tr class=even><td class=val><a href=\"http://www.w3.org/ns/prov#endedAtTime\" target=\"_other\">http://www.w3.org/ns/prov#endedAtTime</a></td><td class=typ>uri</td></tr><tr class=odd><td class=val><a href=\"http://www.w3.org/ns/prov#startedAtTime\" target=\"_other\">http://www.w3.org/ns/prov#startedAtTime</a></td><td class=typ>uri</td></tr><tr class=even><td class=val><a href=\"http://www.w3.org/2000/01/rdf-schema#subClassOf\" target=\"_other\">http://www.w3.org/2000/01/rdf-schema#subClassOf</a></td><td class=typ>uri</td></tr></table><div class=\"tinfo\">Total: 10, Shown: 10</div></div>"
      ]
     },
     "metadata": {},
     "output_type": "display_data"
    }
   ],
   "source": [
    "SELECT DISTINCT ?property\n",
    "WHERE {\n",
    "   ?s ?property ?person .\n",
    "}\n",
    "LIMIT 10"
   ]
  },
  {
   "cell_type": "code",
   "execution_count": null,
   "id": "5680b5a0",
   "metadata": {},
   "outputs": [],
   "source": []
  }
 ],
 "metadata": {
  "kernelspec": {
   "display_name": "SPARQL",
   "language": "sparql",
   "name": "sparql"
  },
  "language_info": {
   "codemirror_mode": {
    "name": "sparql"
   },
   "mimetype": "application/sparql-query",
   "name": "sparql",
   "pygments_lexer": "sparql-nb"
  }
 },
 "nbformat": 4,
 "nbformat_minor": 5
}
